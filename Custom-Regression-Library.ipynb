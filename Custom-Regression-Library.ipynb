{
 "cells": [
  {
   "cell_type": "code",
   "execution_count": 25,
   "metadata": {
    "collapsed": false
   },
   "outputs": [
    {
     "data": {
      "text/plain": [
       "<module 'Regression' from '/Users/rohankotwani/Documents/MachineLearning/Regression.py'>"
      ]
     },
     "execution_count": 25,
     "metadata": {},
     "output_type": "execute_result"
    }
   ],
   "source": [
    "import importlib\n",
    "import Regression\n",
    "importlib.reload(Regression)"
   ]
  },
  {
   "cell_type": "code",
   "execution_count": 2,
   "metadata": {
    "collapsed": false
   },
   "outputs": [],
   "source": [
    "import pandas as pd\n",
    "import numpy as np\n",
    "\n",
    "dtype_dict = {'bathrooms':float, 'waterfront':int, 'sqft_above':int, 'sqft_living15':float, 'grade':int, 'yr_renovated':int, 'price':float, 'bedrooms':float, 'zipcode':str, 'long':float, 'sqft_lot15':float, 'sqft_living':float, 'floors':float, 'condition':int, 'lat':float, 'date':str, 'sqft_basement':int, 'yr_built':int, 'id':str, 'sqft_lot':int, 'view':int}\n",
    "\n",
    "train = pd.read_csv(\"DATA/wk3_kc_house_train_data.csv\",dtype=dtype_dict)\n",
    "valid = pd.read_csv(\"DATA/wk3_kc_house_valid_data.csv\",dtype=dtype_dict)\n",
    "test = pd.read_csv(\"DATA/wk3_kc_house_test_data.csv\",dtype=dtype_dict)\n",
    "\n",
    "import heapq\n",
    "def heapsort(iterable):\n",
    "    h = []\n",
    "    for value in iterable:\n",
    "        heapq.heappush(h, value)\n",
    "    return [heapq.heappop(h) for i in range(len(h))]"
   ]
  },
  {
   "cell_type": "markdown",
   "metadata": {},
   "source": [
    "### Polynomial Regression"
   ]
  },
  {
   "cell_type": "code",
   "execution_count": 3,
   "metadata": {
    "collapsed": false
   },
   "outputs": [
    {
     "data": {
      "text/plain": [
       "[(566268593826074.62, 6),\n",
       " (623955062706518.0, 2),\n",
       " (625820280251531.0, 3),\n",
       " (628240679314405.38, 5),\n",
       " (629097886299585.75, 1),\n",
       " (629987341468500.38, 4),\n",
       " (1073845577333068.5, 7),\n",
       " (7087743224421379.0, 8),\n",
       " (45303627731005880.0, 9),\n",
       " (2.4756831332531533e+17, 10),\n",
       " (7.6162300212284147e+17, 13),\n",
       " (1.1937555950312881e+18, 11),\n",
       " (2.2975609250540692e+18, 14),\n",
       " (5.1108132744530401e+18, 12)]"
      ]
     },
     "execution_count": 3,
     "metadata": {},
     "output_type": "execute_result"
    }
   ],
   "source": [
    "heap = []\n",
    "for i in range(1,15):\n",
    "    z=Regression.sklearn_poly_regression(train[['sqft_living']],train[['price']],i)\n",
    "    SSE = Regression.numpy_poly_regression_SSE(valid[['sqft_living']],valid[['price']],i,z)\n",
    "    heap.append((SSE,i))\n",
    "heapsort(heap)"
   ]
  },
  {
   "cell_type": "markdown",
   "metadata": {},
   "source": [
    "### Vanilla Gradient Descent"
   ]
  },
  {
   "cell_type": "code",
   "execution_count": 4,
   "metadata": {
    "collapsed": false
   },
   "outputs": [
    {
     "name": "stdout",
     "output_type": "stream",
     "text": [
      "[[-46999.91969552]\n",
      " [   202.3576993 ]] 53434961635.5 False\n"
     ]
    }
   ],
   "source": [
    "X = train[['sqft_living']]\n",
    "y = train[[\"price\"]]\n",
    "\n",
    "init_w = np.array([-47000., 1.]).reshape((2,1))\n",
    "w,cost,converged = Regression.vanilla_gradient_descent(X, y, iters=1000, threshold=2.5e9, alpha=7e-12, w= init_w)\n",
    "print(w,cost,converged)"
   ]
  },
  {
   "cell_type": "markdown",
   "metadata": {},
   "source": [
    "### Polynomial Ridge Regression"
   ]
  },
  {
   "cell_type": "code",
   "execution_count": 5,
   "metadata": {
    "collapsed": true
   },
   "outputs": [],
   "source": [
    "sales = pd.read_csv('DATA/kc_house_data.csv', dtype=dtype_dict)"
   ]
  },
  {
   "cell_type": "code",
   "execution_count": 6,
   "metadata": {
    "collapsed": false
   },
   "outputs": [
    {
     "data": {
      "text/plain": [
       "array([[  2.20664375e+05],\n",
       "       [  1.24873306e+02],\n",
       "       [ -4.77376011e-02],\n",
       "       [  3.01446238e-05],\n",
       "       [ -2.44419942e-09],\n",
       "       [ -1.94153675e-13],\n",
       "       [  8.54085686e-18],\n",
       "       [  1.51142121e-21],\n",
       "       [  8.27979093e-26],\n",
       "       [  6.52603101e-31],\n",
       "       [ -3.27895017e-34],\n",
       "       [ -3.87962315e-38],\n",
       "       [ -2.72437650e-42],\n",
       "       [ -1.07790800e-46],\n",
       "       [  3.78242694e-51],\n",
       "       [  1.39790296e-54]])"
      ]
     },
     "execution_count": 6,
     "metadata": {},
     "output_type": "execute_result"
    }
   ],
   "source": [
    "Regression.sklearn_ridge_poly_regression(sales[['sqft_living']],sales[['price']],degree=15,L2_penalty=1.5e-5)"
   ]
  },
  {
   "cell_type": "markdown",
   "metadata": {},
   "source": [
    "### Polynomial Ridge Regression - K Fold Cross Validation - Choose L2 Penalty"
   ]
  },
  {
   "cell_type": "code",
   "execution_count": 7,
   "metadata": {
    "collapsed": false
   },
   "outputs": [
    {
     "data": {
      "text/plain": [
       "[(264991451592249.59, 1000.0),\n",
       " (265539188591410.62, 3162.2776601683795),\n",
       " (265885331710459.28, 10000.0),\n",
       " (265995395009836.66, 31622.776601683792),\n",
       " (266030260837924.94, 100000.0),\n",
       " (266041292470320.66, 316227.76601683791),\n",
       " (266044781588172.44, 1000000.0),\n",
       " (266045885005068.28, 3162277.6601683795),\n",
       " (266046233942223.84, 10000000.0),\n",
       " (266046344286450.69, 31622776.601683792),\n",
       " (266046379180419.94, 100000000.0),\n",
       " (266046390214868.0, 316227766.01683795),\n",
       " (266046393704267.44, 1000000000.0)]"
      ]
     },
     "execution_count": 7,
     "metadata": {},
     "output_type": "execute_result"
    }
   ],
   "source": [
    "train_valid_shuffled = pd.read_csv('DATA/wk3_kc_house_train_valid_shuffled.csv', dtype=dtype_dict)\n",
    "test = pd.read_csv('DATA/wk3_kc_house_test_data.csv', dtype=dtype_dict)\n",
    "\n",
    "X = Regression.pandas_poly_feature(train_valid_shuffled[['sqft_living']], 15)\n",
    "y = train_valid_shuffled[['price']]\n",
    "\n",
    "heap=[]\n",
    "for penalty in np.logspace(3, 9, num=13):\n",
    "    SSE = Regression.sklearn_ridge_k_fold(k=10, l2_penalty=penalty, input_space = X, output = y)\n",
    "    heap.append((SSE,penalty))\n",
    "heapsort(heap)"
   ]
  },
  {
   "cell_type": "markdown",
   "metadata": {},
   "source": [
    "### Ridge Regression - Gradient Descent"
   ]
  },
  {
   "cell_type": "code",
   "execution_count": 8,
   "metadata": {
    "collapsed": false
   },
   "outputs": [],
   "source": [
    "\n",
    "train = pd.read_csv('DATA/kc_house_train_data.csv', dtype=dtype_dict)\n",
    "test = pd.read_csv('DATA/kc_house_test_data.csv', dtype=dtype_dict)\n",
    "simple_weights_0_penalty,_,_,_=Regression.ridge_gradient_descent(train[['sqft_living']].values, train[['price']], init_w=None, \n",
    "                                 alpha=1e-12,l2_penalty=0, max_iterations=1000)\n",
    "simple_weights_high_penalty,_,_,_=Regression.ridge_gradient_descent(train[['sqft_living']], train[['price']], init_w=None,\n",
    "                                 alpha=1e-12,l2_penalty=1e11, max_iterations=1000)\n"
   ]
  },
  {
   "cell_type": "code",
   "execution_count": 9,
   "metadata": {
    "collapsed": false
   },
   "outputs": [
    {
     "name": "stderr",
     "output_type": "stream",
     "text": [
      "/Users/rohankotwani/anaconda/envs/datasci/lib/python3.5/site-packages/IPython/html.py:14: ShimWarning: The `IPython.html` package has been deprecated. You should import from `notebook` instead. `IPython.html.widgets` has moved to `ipywidgets`.\n",
      "  \"`IPython.html.widgets` has moved to `ipywidgets`.\", ShimWarning)\n"
     ]
    },
    {
     "data": {
      "image/png": "[encoded data removed]",
      "text/plain": [
       "<matplotlib.figure.Figure at 0x110668cf8>"
      ]
     },
     "metadata": {},
     "output_type": "display_data"
    }
   ],
   "source": [
    "%matplotlib inline\n",
    "import matplotlib.pyplot as plt\n",
    "import seaborn as sns\n",
    "\n",
    "sns.plt.plot(train[['sqft_living']].values,train[['price']].values,'k.',\n",
    "        train[['sqft_living']].values,Regression.numpy_predict(train[['sqft_living']],simple_weights_0_penalty),'b-',\n",
    "        train[['sqft_living']].values,Regression.numpy_predict(train[['sqft_living']],simple_weights_high_penalty),'r-')\n",
    "plt.show()\n",
    "plt.close()"
   ]
  },
  {
   "cell_type": "markdown",
   "metadata": {
    "collapsed": false
   },
   "source": [
    "### Lasso Regression - Choose L1 Penalty"
   ]
  },
  {
   "cell_type": "code",
   "execution_count": 10,
   "metadata": {
    "collapsed": false
   },
   "outputs": [],
   "source": [
    "from math import log, sqrt\n",
    "\n",
    "training = pd.read_csv('DATA/wk3_kc_house_train_data.csv', dtype=dtype_dict)\n",
    "validation = pd.read_csv('DATA/wk3_kc_house_valid_data.csv', dtype=dtype_dict)"
   ]
  },
  {
   "cell_type": "code",
   "execution_count": 11,
   "metadata": {
    "collapsed": false
   },
   "outputs": [],
   "source": [
    "training['sqft_living_sqrt'] = training['sqft_living'].apply(sqrt)\n",
    "training['sqft_lot_sqrt'] = training['sqft_lot'].apply(sqrt)\n",
    "training['bedrooms_square'] = training['bedrooms']*training['bedrooms']\n",
    "training['floors_square'] = training['floors']*training['floors']\n",
    "\n",
    "validation['sqft_living_sqrt'] = validation['sqft_living'].apply(sqrt)\n",
    "validation['sqft_lot_sqrt'] = validation['sqft_lot'].apply(sqrt)\n",
    "validation['bedrooms_square'] = validation['bedrooms']*validation['bedrooms']\n",
    "validation['floors_square'] = validation['floors']*validation['floors']"
   ]
  },
  {
   "cell_type": "code",
   "execution_count": 12,
   "metadata": {
    "collapsed": false
   },
   "outputs": [
    {
     "data": {
      "text/html": [
       "<div>\n",
       "<table border=\"1\" class=\"dataframe\">\n",
       "  <thead>\n",
       "    <tr style=\"text-align: right;\">\n",
       "      <th></th>\n",
       "      <th>sqft_living</th>\n",
       "      <th>waterfront</th>\n",
       "      <th>view</th>\n",
       "      <th>grade</th>\n",
       "      <th>yr_built</th>\n",
       "    </tr>\n",
       "  </thead>\n",
       "  <tbody>\n",
       "    <tr>\n",
       "      <th>0</th>\n",
       "      <td>1180.0</td>\n",
       "      <td>0</td>\n",
       "      <td>0</td>\n",
       "      <td>7</td>\n",
       "      <td>1955</td>\n",
       "    </tr>\n",
       "    <tr>\n",
       "      <th>1</th>\n",
       "      <td>2570.0</td>\n",
       "      <td>0</td>\n",
       "      <td>0</td>\n",
       "      <td>7</td>\n",
       "      <td>1951</td>\n",
       "    </tr>\n",
       "    <tr>\n",
       "      <th>2</th>\n",
       "      <td>770.0</td>\n",
       "      <td>0</td>\n",
       "      <td>0</td>\n",
       "      <td>6</td>\n",
       "      <td>1933</td>\n",
       "    </tr>\n",
       "    <tr>\n",
       "      <th>3</th>\n",
       "      <td>1960.0</td>\n",
       "      <td>0</td>\n",
       "      <td>0</td>\n",
       "      <td>7</td>\n",
       "      <td>1965</td>\n",
       "    </tr>\n",
       "    <tr>\n",
       "      <th>4</th>\n",
       "      <td>1680.0</td>\n",
       "      <td>0</td>\n",
       "      <td>0</td>\n",
       "      <td>8</td>\n",
       "      <td>1987</td>\n",
       "    </tr>\n",
       "  </tbody>\n",
       "</table>\n",
       "</div>"
      ],
      "text/plain": [
       "   sqft_living  waterfront  view  grade  yr_built\n",
       "0       1180.0           0     0      7      1955\n",
       "1       2570.0           0     0      7      1951\n",
       "2        770.0           0     0      6      1933\n",
       "3       1960.0           0     0      7      1965\n",
       "4       1680.0           0     0      8      1987"
      ]
     },
     "execution_count": 12,
     "metadata": {},
     "output_type": "execute_result"
    }
   ],
   "source": [
    "all_features = ['bedrooms', 'bedrooms_square',\n",
    "            'bathrooms',\n",
    "            'sqft_living', 'sqft_living_sqrt',\n",
    "            'sqft_lot', 'sqft_lot_sqrt',\n",
    "            'floors', 'floors_square',\n",
    "            'waterfront', 'view', 'condition', 'grade',\n",
    "            'sqft_above',\n",
    "            'sqft_basement',\n",
    "            'yr_built', 'yr_renovated']\n",
    "\n",
    "selection = Regression.sklearn_lasso_feature_selection(training[all_features],training[['price']],l1_penalty=5e2)\n",
    "sales[selection].head()"
   ]
  },
  {
   "cell_type": "code",
   "execution_count": 13,
   "metadata": {
    "collapsed": false
   },
   "outputs": [
    {
     "data": {
      "text/plain": [
       "[(398213327300134.88, 10.0),\n",
       " (399041900253347.0, 31.622776601683793),\n",
       " (429791604072559.56, 100.0),\n",
       " (463739831045121.38, 316.22776601683796),\n",
       " (645898733633807.0, 1000.0),\n",
       " (1222506859427163.0, 3162.2776601683795),\n",
       " (1222506859427163.0, 10000.0),\n",
       " (1222506859427163.0, 31622.776601683792),\n",
       " (1222506859427163.0, 100000.0),\n",
       " (1222506859427163.0, 316227.76601683791),\n",
       " (1222506859427163.0, 1000000.0),\n",
       " (1222506859427163.0, 3162277.6601683795),\n",
       " (1222506859427163.0, 10000000.0)]"
      ]
     },
     "execution_count": 13,
     "metadata": {},
     "output_type": "execute_result"
    }
   ],
   "source": [
    "\n",
    "Regression.sklearn_lasso_regression(X,y,l1_penalty=5e2)\n",
    "\n",
    "heap=[]\n",
    "for l1_penalty in np.logspace(1, 7, num=13):\n",
    "    z = Regression.sklearn_lasso_regression(training[all_features],training[['price']],l1_penalty)\n",
    "    SSE = Regression.numpy_SSE(validation[all_features],validation[['price']],z)\n",
    "    heap.append((SSE,l1_penalty))\n",
    "    \n",
    "heapsort(heap)"
   ]
  },
  {
   "cell_type": "markdown",
   "metadata": {},
   "source": [
    "### Lasso Regression - Get Penalty Range"
   ]
  },
  {
   "cell_type": "code",
   "execution_count": 14,
   "metadata": {
    "collapsed": false
   },
   "outputs": [
    {
     "data": {
      "text/plain": [
       "(153.78620557013164, 206.12848615851479)"
      ]
     },
     "execution_count": 14,
     "metadata": {},
     "output_type": "execute_result"
    }
   ],
   "source": [
    "Regression.sklearn_lasso_penalty_range(training[all_features], training[['price']], num=7)"
   ]
  },
  {
   "cell_type": "markdown",
   "metadata": {},
   "source": [
    "### KNN regression - Choose K"
   ]
  },
  {
   "cell_type": "code",
   "execution_count": 15,
   "metadata": {
    "collapsed": true
   },
   "outputs": [],
   "source": [
    "train = pd.read_csv(\"DATA/kc_house_data_small_train.csv\")\n",
    "test = pd.read_csv(\"DATA/kc_house_data_small_test.csv\")\n",
    "validation = pd.read_csv(\"DATA/kc_house_data_validation.csv\")\n",
    "features=train.columns[(train.columns!='price')&(train.columns!='date')&(train.columns!='id')]"
   ]
  },
  {
   "cell_type": "code",
   "execution_count": 16,
   "metadata": {
    "collapsed": false
   },
   "outputs": [
    {
     "data": {
      "text/plain": [
       "[(67361678735491.5, 8),\n",
       " (68338314418622.531, 7),\n",
       " (68372727958976.094, 9),\n",
       " (68903104922017.641, 6),\n",
       " (69050514340718.391, 12),\n",
       " (69333557981587.992, 10),\n",
       " (69523855215598.828, 11),\n",
       " (69846517419718.602, 5),\n",
       " (70011254508263.688, 13),\n",
       " (70911530680258.844, 14),\n",
       " (71108797486656.281, 15),\n",
       " (71934803349591.688, 4),\n",
       " (72692096019202.562, 3),\n",
       " (83445073504025.5, 2),\n",
       " (105451197751561.0, 1)]"
      ]
     },
     "execution_count": 16,
     "metadata": {},
     "output_type": "execute_result"
    }
   ],
   "source": [
    "heap=[]\n",
    "\n",
    "for k in range(1,16):\n",
    "    predictions = Regression.numpy_knn_regression(k,train[features], train[['price']], validation[features])\n",
    "    SSE = np.sum((validation.price - predictions)**2)\n",
    "    heap.append((SSE,k))\n",
    "Regression.heapsort(heap)"
   ]
  },
  {
   "cell_type": "markdown",
   "metadata": {},
   "source": [
    "### Gaussian Kernel Regression - Choose K & B"
   ]
  },
  {
   "cell_type": "code",
   "execution_count": 22,
   "metadata": {
    "collapsed": false
   },
   "outputs": [
    {
     "data": {
      "text/plain": [
       "[(63120157182714.844, 0.06933333333333333, 9),\n",
       " (63591441428473.297, 0.06933333333333333, 8),\n",
       " (63834590393153.719, 0.06933333333333333, 10),\n",
       " (64162383818952.273, 0.06933333333333333, 11),\n",
       " (64828066390168.484, 0.06933333333333333, 12),\n",
       " (64967835999588.211, 0.06933333333333333, 7),\n",
       " (65416323175709.203, 0.06933333333333333, 13),\n",
       " (65654840844454.297, 0.06933333333333333, 14),\n",
       " (65814063645579.656, 0.12866666666666668, 9),\n",
       " (65920430972726.023, 0.06933333333333333, 15),\n",
       " (66262274457003.875, 0.12866666666666668, 10),\n",
       " (66387912626907.453, 0.12866666666666668, 8),\n",
       " (66612343807296.758, 0.06933333333333333, 6),\n",
       " (66861963454357.43, 0.12866666666666668, 11),\n",
       " (67229060559788.531, 0.12866666666666668, 7),\n",
       " (67938906957667.516, 0.12866666666666668, 12),\n",
       " (68070113348132.594, 0.06933333333333333, 5),\n",
       " (68409066673834.609, 0.12866666666666668, 13),\n",
       " (68498093513983.125, 0.12866666666666668, 14),\n",
       " (68650236098431.438, 0.12866666666666668, 15),\n",
       " (68770026615140.312, 0.12866666666666668, 6),\n",
       " (70072577481522.75, 0.12866666666666668, 3),\n",
       " (70170386321585.07, 0.12866666666666668, 5),\n",
       " (70961358093648.234, 0.06933333333333333, 4),\n",
       " (71229224040041.281, 0.06933333333333333, 3),\n",
       " (72048081013666.812, 0.12866666666666668, 4),\n",
       " (73603938148117.078, 0.01, 15),\n",
       " (73671015093869.406, 0.01, 14),\n",
       " (73730024114334.125, 0.01, 13),\n",
       " (73829645784373.688, 0.01, 12),\n",
       " (74054405068501.109, 0.01, 11),\n",
       " (74255739653664.047, 0.01, 10),\n",
       " (74386169725801.688, 0.01, 9),\n",
       " (74684394046059.859, 0.01, 8),\n",
       " (75465378137888.891, 0.12866666666666668, 2),\n",
       " (75659898664754.562, 0.01, 7),\n",
       " (76613715947785.062, 0.01, 6),\n",
       " (77556419461872.281, 0.188, 9),\n",
       " (77606906958004.75, 0.01, 5),\n",
       " (77808648806097.391, 0.188, 10),\n",
       " (77834145352207.734, 0.188, 11),\n",
       " (78080502772015.031, 0.188, 8),\n",
       " (78154774307770.469, 0.188, 7),\n",
       " (79039070150092.844, 0.01, 4),\n",
       " (79070311036882.578, 0.188, 12),\n",
       " (79186746305374.469, 0.188, 6),\n",
       " (79728389511206.688, 0.188, 13),\n",
       " (79877427239594.969, 0.188, 15),\n",
       " (79932104764961.25, 0.188, 14),\n",
       " (79996603758025.406, 0.188, 5),\n",
       " (80249590358674.141, 0.06933333333333333, 2),\n",
       " (80743676360756.172, 0.188, 3),\n",
       " (80880397730429.094, 0.01, 3),\n",
       " (81417833566196.281, 0.188, 4),\n",
       " (81446143518513.031, 0.188, 2),\n",
       " (84052901355554.703, 0.188, 1),\n",
       " (85229288432839.25, 0.12866666666666668, 1),\n",
       " (88568130500256.281, 0.01, 2),\n",
       " (94243682121340.406, 0.24733333333333335, 9),\n",
       " (94389752103525.125, 0.24733333333333335, 11),\n",
       " (94473476356713.469, 0.24733333333333335, 10),\n",
       " (94909338859205.047, 0.24733333333333335, 2),\n",
       " (94937307415318.172, 0.24733333333333335, 8),\n",
       " (95034256042813.156, 0.24733333333333335, 7),\n",
       " (95101553579120.281, 0.24733333333333335, 12),\n",
       " (95301307378966.344, 0.24733333333333335, 5),\n",
       " (95309657061155.375, 0.24733333333333335, 4),\n",
       " (95352735997606.438, 0.24733333333333335, 3),\n",
       " (95389936776264.062, 0.24733333333333335, 6),\n",
       " (95507945406153.25, 0.24733333333333335, 15),\n",
       " (95576043647338.562, 0.24733333333333335, 13),\n",
       " (95706079350287.281, 0.24733333333333335, 14),\n",
       " (96424194916696.844, 0.24733333333333335, 1),\n",
       " (102831066116595.55, 0.06933333333333333, 1),\n",
       " (107949507000439.0, 0.01, 1),\n",
       " (118937825744805.22, 0.3066666666666667, 15),\n",
       " (119034868050651.3, 0.3066666666666667, 2),\n",
       " (119120950263844.25, 0.3066666666666667, 14),\n",
       " (119156181592455.75, 0.3066666666666667, 11),\n",
       " (119174731159232.58, 0.3066666666666667, 12),\n",
       " (119181168707321.22, 0.3066666666666667, 13),\n",
       " (119233181383277.72, 0.3066666666666667, 3),\n",
       " (119459352287608.59, 0.3066666666666667, 10),\n",
       " (119580265199940.66, 0.3066666666666667, 4),\n",
       " (119598305774213.48, 0.3066666666666667, 9),\n",
       " (119688401984869.31, 0.3066666666666667, 8),\n",
       " (119865491045683.7, 0.3066666666666667, 7),\n",
       " (119902451074456.31, 0.3066666666666667, 1),\n",
       " (119949065110604.17, 0.3066666666666667, 5),\n",
       " (120079694798411.22, 0.3066666666666667, 6),\n",
       " (140733379683807.14, 0.36599999999999999, 2),\n",
       " (140930251117414.31, 0.36599999999999999, 3),\n",
       " (140940413307402.38, 0.36599999999999999, 11),\n",
       " (140980044825117.31, 0.36599999999999999, 15),\n",
       " (141035349676151.19, 0.36599999999999999, 12),\n",
       " (141096595410916.53, 0.36599999999999999, 13),\n",
       " (141116344768601.34, 0.36599999999999999, 10),\n",
       " (141140592291892.78, 0.36599999999999999, 14),\n",
       " (141191063546354.47, 0.36599999999999999, 7),\n",
       " (141193461635514.88, 0.36599999999999999, 9),\n",
       " (141262120606353.12, 0.36599999999999999, 8),\n",
       " (141294930279868.69, 0.36599999999999999, 4),\n",
       " (141526054522371.88, 0.36599999999999999, 5),\n",
       " (141596276317001.34, 0.36599999999999999, 1),\n",
       " (141700033169593.56, 0.36599999999999999, 6),\n",
       " (153972645841335.28, 0.42533333333333334, 2),\n",
       " (154168082708310.12, 0.42533333333333334, 11),\n",
       " (154170504636194.59, 0.42533333333333334, 3),\n",
       " (154177949206888.44, 0.42533333333333334, 15),\n",
       " (154265245166063.69, 0.42533333333333334, 12),\n",
       " (154289351714029.94, 0.42533333333333334, 13),\n",
       " (154341129046443.62, 0.42533333333333334, 14),\n",
       " (154348366372637.72, 0.42533333333333334, 10),\n",
       " (154431528314097.66, 0.42533333333333334, 9),\n",
       " (154434496855478.88, 0.42533333333333334, 7),\n",
       " (154505142439047.56, 0.42533333333333334, 8),\n",
       " (154535286796359.0, 0.42533333333333334, 4),\n",
       " (154769296253372.69, 0.42533333333333334, 5),\n",
       " (154836738886021.59, 0.42533333333333334, 1),\n",
       " (154931694221485.12, 0.42533333333333334, 6),\n",
       " (155747300281911.5, 0.48466666666666669, 2),\n",
       " (155941973341641.81, 0.48466666666666669, 11),\n",
       " (155945412595871.41, 0.48466666666666669, 3),\n",
       " (155952096448556.41, 0.48466666666666669, 15),\n",
       " (156039780878598.12, 0.48466666666666669, 12),\n",
       " (156064087685595.31, 0.48466666666666669, 13),\n",
       " (156116192633400.31, 0.48466666666666669, 14),\n",
       " (156123252919675.31, 0.48466666666666669, 10),\n",
       " (156206925697813.38, 0.48466666666666669, 9),\n",
       " (156210152214999.56, 0.48466666666666669, 7),\n",
       " (156281002943420.69, 0.48466666666666669, 8),\n",
       " (156312115058168.72, 0.48466666666666669, 4),\n",
       " (156546649466728.75, 0.48466666666666669, 5),\n",
       " (156612300115041.62, 0.48466666666666669, 1),\n",
       " (156709542747573.28, 0.48466666666666669, 6),\n",
       " (166862463935738.31, 0.54400000000000004, 2),\n",
       " (167060406578328.12, 0.54400000000000004, 11),\n",
       " (167070732776000.69, 0.54400000000000004, 15),\n",
       " (167085175794730.41, 0.54400000000000004, 3),\n",
       " (167158720554313.12, 0.54400000000000004, 12),\n",
       " (167183185063319.88, 0.54400000000000004, 13),\n",
       " (167235546887905.25, 0.54400000000000004, 14),\n",
       " (167242465312889.38, 0.54400000000000004, 10),\n",
       " (167326537968738.25, 0.54400000000000004, 9),\n",
       " (167329962733761.31, 0.54400000000000004, 7),\n",
       " (167400973904750.91, 0.54400000000000004, 8),\n",
       " (167432847033068.81, 0.54400000000000004, 4),\n",
       " (167667794109974.31, 0.54400000000000004, 5),\n",
       " (167720372674561.06, 0.54400000000000004, 1),\n",
       " (167831069533961.09, 0.54400000000000004, 6),\n",
       " (175998863607472.19, 0.60333333333333339, 15),\n",
       " (176161102133356.25, 0.60333333333333339, 1),\n",
       " (176161102133356.25, 0.60333333333333339, 2),\n",
       " (176161102133356.25, 0.60333333333333339, 3),\n",
       " (176161102133356.25, 0.60333333333333339, 4),\n",
       " (176161102133356.25, 0.60333333333333339, 5),\n",
       " (176161102133356.25, 0.60333333333333339, 6),\n",
       " (176161102133356.25, 0.60333333333333339, 7),\n",
       " (176161102133356.25, 0.60333333333333339, 8),\n",
       " (176161102133356.25, 0.60333333333333339, 9),\n",
       " (176161102133356.25, 0.60333333333333339, 10),\n",
       " (176161102133356.25, 0.60333333333333339, 11),\n",
       " (176161102133356.25, 0.60333333333333339, 12),\n",
       " (176161102133356.25, 0.60333333333333339, 13),\n",
       " (176161102133356.25, 0.60333333333333339, 14),\n",
       " (176949352052708.03, 0.66266666666666674, 1),\n",
       " (176949352052708.03, 0.66266666666666674, 2),\n",
       " (176949352052708.03, 0.66266666666666674, 3),\n",
       " (176949352052708.03, 0.66266666666666674, 4),\n",
       " (176949352052708.03, 0.66266666666666674, 5),\n",
       " (176949352052708.03, 0.66266666666666674, 6),\n",
       " (176949352052708.03, 0.66266666666666674, 7),\n",
       " (176949352052708.03, 0.66266666666666674, 8),\n",
       " (176949352052708.03, 0.66266666666666674, 9),\n",
       " (176949352052708.03, 0.66266666666666674, 10),\n",
       " (176949352052708.03, 0.66266666666666674, 11),\n",
       " (176949352052708.03, 0.66266666666666674, 12),\n",
       " (176949352052708.03, 0.66266666666666674, 13),\n",
       " (176949352052708.03, 0.66266666666666674, 14),\n",
       " (176949352052708.03, 0.66266666666666674, 15),\n",
       " (177992309253137.66, 0.72199999999999998, 1),\n",
       " (177992309253137.66, 0.72199999999999998, 2),\n",
       " (177992309253137.66, 0.72199999999999998, 3),\n",
       " (177992309253137.66, 0.72199999999999998, 4),\n",
       " (177992309253137.66, 0.72199999999999998, 5),\n",
       " (177992309253137.66, 0.72199999999999998, 6),\n",
       " (177992309253137.66, 0.72199999999999998, 7),\n",
       " (177992309253137.66, 0.72199999999999998, 8),\n",
       " (177992309253137.66, 0.72199999999999998, 9),\n",
       " (177992309253137.66, 0.72199999999999998, 10),\n",
       " (177992309253137.66, 0.72199999999999998, 11),\n",
       " (177992309253137.66, 0.72199999999999998, 12),\n",
       " (177992309253137.66, 0.72199999999999998, 13),\n",
       " (177992309253137.66, 0.72199999999999998, 14),\n",
       " (177992309253137.66, 0.72199999999999998, 15),\n",
       " (179501275586450.25, 0.78133333333333332, 1),\n",
       " (179501275586450.25, 0.78133333333333332, 2),\n",
       " (179501275586450.25, 0.78133333333333332, 3),\n",
       " (179501275586450.25, 0.78133333333333332, 4),\n",
       " (179501275586450.25, 0.78133333333333332, 5),\n",
       " (179501275586450.25, 0.78133333333333332, 6),\n",
       " (179501275586450.25, 0.78133333333333332, 7),\n",
       " (179501275586450.25, 0.78133333333333332, 8),\n",
       " (179501275586450.25, 0.78133333333333332, 9),\n",
       " (179501275586450.25, 0.78133333333333332, 10),\n",
       " (179501275586450.25, 0.78133333333333332, 11),\n",
       " (179501275586450.25, 0.78133333333333332, 12),\n",
       " (179501275586450.25, 0.78133333333333332, 13),\n",
       " (179501275586450.25, 0.78133333333333332, 14),\n",
       " (179501275586450.25, 0.78133333333333332, 15),\n",
       " (179782084517167.56, 0.84066666666666667, 1),\n",
       " (179782084517167.56, 0.84066666666666667, 2),\n",
       " (179782084517167.56, 0.84066666666666667, 3),\n",
       " (179782084517167.56, 0.84066666666666667, 4),\n",
       " (179782084517167.56, 0.84066666666666667, 5),\n",
       " (179782084517167.56, 0.84066666666666667, 6),\n",
       " (179782084517167.56, 0.84066666666666667, 7),\n",
       " (179782084517167.56, 0.84066666666666667, 8),\n",
       " (179782084517167.56, 0.84066666666666667, 9),\n",
       " (179782084517167.56, 0.84066666666666667, 10),\n",
       " (179782084517167.56, 0.84066666666666667, 11),\n",
       " (179782084517167.56, 0.84066666666666667, 12),\n",
       " (179782084517167.56, 0.84066666666666667, 13),\n",
       " (179782084517167.56, 0.84066666666666667, 14),\n",
       " (179782084517167.56, 0.84066666666666667, 15),\n",
       " (180038037312530.81, 0.90000000000000002, 1),\n",
       " (180038037312530.81, 0.90000000000000002, 2),\n",
       " (180038037312530.81, 0.90000000000000002, 3),\n",
       " (180038037312530.81, 0.90000000000000002, 4),\n",
       " (180038037312530.81, 0.90000000000000002, 5),\n",
       " (180038037312530.81, 0.90000000000000002, 6),\n",
       " (180038037312530.81, 0.90000000000000002, 7),\n",
       " (180038037312530.81, 0.90000000000000002, 8),\n",
       " (180038037312530.81, 0.90000000000000002, 9),\n",
       " (180038037312530.81, 0.90000000000000002, 10),\n",
       " (180038037312530.81, 0.90000000000000002, 11),\n",
       " (180038037312530.81, 0.90000000000000002, 12),\n",
       " (180038037312530.81, 0.90000000000000002, 13),\n",
       " (180038037312530.81, 0.90000000000000002, 14),\n",
       " (180038037312530.81, 0.90000000000000002, 15)]"
      ]
     },
     "execution_count": 22,
     "metadata": {},
     "output_type": "execute_result"
    }
   ],
   "source": [
    "heap=[]\n",
    "for k in range(1,16):\n",
    "    for b in np.linspace(0.01,0.9,16):\n",
    "        predictions = Regression.numpy_gaussian_kernel_regression(k,b,train[features], train[['price']], validation[features])\n",
    "        SSE = np.sum((validation.price - predictions)**2)\n",
    "        heap.append((SSE,b,k))\n",
    "Regression.heapsort(heap)"
   ]
  },
  {
   "cell_type": "markdown",
   "metadata": {
    "collapsed": true
   },
   "source": [
    "### Inverse Distance Kernel Regression - Choose K"
   ]
  },
  {
   "cell_type": "code",
   "execution_count": 26,
   "metadata": {
    "collapsed": false
   },
   "outputs": [
    {
     "data": {
      "text/plain": [
       "[(66950195965431.109, 8),\n",
       " (67611010338949.328, 9),\n",
       " (67705607904796.75, 12),\n",
       " (67907048621089.789, 10),\n",
       " (67958635363273.805, 11),\n",
       " (67959958475323.359, 7),\n",
       " (68408956362761.438, 13),\n",
       " (68642904720638.234, 6),\n",
       " (69094056591556.734, 14),\n",
       " (69224109940019.086, 15),\n",
       " (69603710553541.398, 5),\n",
       " (71640084995991.656, 4),\n",
       " (72650261466114.094, 3),\n",
       " (83482557450944.938, 2),\n",
       " (105451197751561.0, 1)]"
      ]
     },
     "execution_count": 26,
     "metadata": {},
     "output_type": "execute_result"
    }
   ],
   "source": [
    "heap=[]\n",
    "for k in range(1,16):\n",
    "    predictions = Regression.numpy_knn_weighted_regression(k,train[features], train[['price']], validation[features])\n",
    "    SSE = np.sum((validation.price - predictions)**2)\n",
    "    heap.append((SSE,k))\n",
    "Regression.heapsort(heap)"
   ]
  },
  {
   "cell_type": "code",
   "execution_count": null,
   "metadata": {
    "collapsed": true
   },
   "outputs": [],
   "source": []
  }
 ],
 "metadata": {
  "kernelspec": {
   "display_name": "Python 3",
   "language": "python",
   "name": "python3"
  },
  "language_info": {
   "codemirror_mode": {
    "name": "ipython",
    "version": 3
   },
   "file_extension": ".py",
   "mimetype": "text/x-python",
   "name": "python",
   "nbconvert_exporter": "python",
   "pygments_lexer": "ipython3",
   "version": "3.5.2"
  }
 },
 "nbformat": 4,
 "nbformat_minor": 1
}
